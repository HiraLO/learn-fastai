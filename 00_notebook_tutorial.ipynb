{
  "nbformat": 4,
  "nbformat_minor": 0,
  "metadata": {
    "colab": {
      "name": "Copy of 00_notebook_tutorial.ipynb",
      "version": "0.3.2",
      "provenance": [],
      "collapsed_sections": [
        "k0FOT6L7ioy6",
        "2vhv0oYSiozA",
        "2yiPbOPBiozK",
        "592xUjccio1J",
        "slt2sdxjio1f"
      ],
      "include_colab_link": true
    },
    "kernelspec": {
      "name": "python3",
      "display_name": "Python 3"
    },
    "accelerator": "GPU"
  },
  "cells": [
    {
      "cell_type": "markdown",
      "metadata": {
        "id": "view-in-github",
        "colab_type": "text"
      },
      "source": [
        "<a href=\"https://colab.research.google.com/github/HiraLO/learn-fastai/blob/master/00_notebook_tutorial.ipynb\" target=\"_parent\"><img src=\"https://colab.research.google.com/assets/colab-badge.svg\" alt=\"Open In Colab\"/></a>"
      ]
    },
    {
      "metadata": {
        "id": "yK49uKGYiowm",
        "colab_type": "text"
      },
      "cell_type": "markdown",
      "source": [
        "**Important note:** You should always work on a duplicate of the course notebook. On the page you used to open this, tick the box next to the name of the notebook and click duplicate to easily create a new version of this notebook.\n",
        "\n",
        "You will get errors each time you try to update your course repository if you don't do this, and your changes will end up being erased by the original course version."
      ]
    },
    {
      "metadata": {
        "id": "8481MJxciows",
        "colab_type": "text"
      },
      "cell_type": "markdown",
      "source": [
        "# Welcome to Jupyter Notebooks!"
      ]
    },
    {
      "metadata": {
        "id": "zqQLTyxqioww",
        "colab_type": "text"
      },
      "cell_type": "markdown",
      "source": [
        "If you want to learn how to use this tool you've come to the right place. This article will teach you all you need to know to use Jupyter Notebooks effectively. You only need to go through Section 1 to learn the basics and you can go into Section 2 if you want to further increase your productivity."
      ]
    },
    {
      "metadata": {
        "id": "8DxApd1diow3",
        "colab_type": "text"
      },
      "cell_type": "markdown",
      "source": [
        "You might be reading this tutorial in a web page (maybe Github or the course's webpage). We strongly suggest to read this tutorial in a (yes, you guessed it) Jupyter Notebook. This way you will be able to actually *try* the different commands we will introduce here."
      ]
    },
    {
      "metadata": {
        "id": "V5adchwhiow6",
        "colab_type": "text"
      },
      "cell_type": "markdown",
      "source": [
        "## Section 1: Need to Know"
      ]
    },
    {
      "metadata": {
        "id": "WM1bWL9Hiow9",
        "colab_type": "text"
      },
      "cell_type": "markdown",
      "source": [
        "### Introduction"
      ]
    },
    {
      "metadata": {
        "id": "hp8EPU9qioxC",
        "colab_type": "text"
      },
      "cell_type": "markdown",
      "source": [
        "Let's build up from the basics, what is a Jupyter Notebook? Well, you are reading one. It is a document made of cells. You can write like I am writing now (markdown cells) or you can perform calculations in Python (code cells) and run them like this:"
      ]
    },
    {
      "metadata": {
        "id": "1SFHCjTzioxE",
        "colab_type": "code",
        "outputId": "0615926b-63aa-41f5-aedb-01e42cf4465a",
        "colab": {
          "base_uri": "https://localhost:8080/",
          "height": 35
        }
      },
      "cell_type": "code",
      "source": [
        "10+10+10"
      ],
      "execution_count": 1,
      "outputs": [
        {
          "output_type": "execute_result",
          "data": {
            "text/plain": [
              "30"
            ]
          },
          "metadata": {
            "tags": []
          },
          "execution_count": 1
        }
      ]
    },
    {
      "metadata": {
        "id": "53oJqqlmioxe",
        "colab_type": "text"
      },
      "cell_type": "markdown",
      "source": [
        "Cool huh? This combination of prose and code makes Jupyter Notebook ideal for experimentation: we can see the rationale for each experiment, the code and the results in one comprehensive document. In fast.ai, each lesson is documented in a notebook and you can later use that notebook to experiment yourself. \n",
        "\n",
        "Other renowned institutions in academy and industry use Jupyter Notebook: Google, Microsoft, IBM, Bloomberg, Berkeley and NASA among others. Even Nobel-winning economists [use Jupyter Notebooks](https://paulromer.net/jupyter-mathematica-and-the-future-of-the-research-paper/)  for their experiments and some suggest that Jupyter Notebooks will be the [new format for research papers](https://www.theatlantic.com/science/archive/2018/04/the-scientific-paper-is-obsolete/556676/)."
      ]
    },
    {
      "metadata": {
        "id": "saR6gS64pWO-",
        "colab_type": "text"
      },
      "cell_type": "markdown",
      "source": [
        ""
      ]
    },
    {
      "metadata": {
        "id": "ghM9u7eGpWrY",
        "colab_type": "text"
      },
      "cell_type": "markdown",
      "source": [
        ""
      ]
    },
    {
      "metadata": {
        "id": "HzKiHB0Sioxg",
        "colab_type": "text"
      },
      "cell_type": "markdown",
      "source": [
        "### Writing"
      ]
    },
    {
      "metadata": {
        "id": "LLP5kYg0ioxl",
        "colab_type": "text"
      },
      "cell_type": "markdown",
      "source": [
        "A type of cell in which you can write like this is called _Markdown_. [_Markdown_](https://en.wikipedia.org/wiki/Markdown) is a very popular markup language. To specify that a cell is _Markdown_ you need to click in the drop-down menu in the toolbar and select _Markdown_."
      ]
    },
    {
      "metadata": {
        "id": "aS4NMziEioxq",
        "colab_type": "text"
      },
      "cell_type": "markdown",
      "source": [
        "Click on the the '+' button on the left and select _Markdown_ from the toolbar."
      ]
    },
    {
      "metadata": {
        "id": "4BFhMPSnioxt",
        "colab_type": "text"
      },
      "cell_type": "markdown",
      "source": [
        "Now you can type your first _Markdown_ cell. Write 'My first markdown cell' and press run."
      ]
    },
    {
      "metadata": {
        "id": "z_MCiWouioxu",
        "colab_type": "text"
      },
      "cell_type": "markdown",
      "source": [
        "![add](https://github.com/fastai/course-v3/blob/master/nbs/dl1/images/notebook_tutorial/add.png?raw=1)"
      ]
    },
    {
      "metadata": {
        "id": "XfMKTxnQioxw",
        "colab_type": "text"
      },
      "cell_type": "markdown",
      "source": [
        "You should see something like this:"
      ]
    },
    {
      "metadata": {
        "id": "zwPpFhs-ioxy",
        "colab_type": "text"
      },
      "cell_type": "markdown",
      "source": [
        "My first markdown cell"
      ]
    },
    {
      "metadata": {
        "id": "f9i_M77miox4",
        "colab_type": "text"
      },
      "cell_type": "markdown",
      "source": [
        "Now try making your first _Code_ cell: follow the same steps as before but don't change the cell type (when you add a cell its default type is _Code_). Type something like 3/2. You should see '1.5' as output."
      ]
    },
    {
      "metadata": {
        "id": "1d2u6hE2iox8",
        "colab_type": "code",
        "outputId": "48864994-9b5a-4961-dae1-de3252aa57cf",
        "colab": {
          "base_uri": "https://localhost:8080/",
          "height": 35
        }
      },
      "cell_type": "code",
      "source": [
        "3/2"
      ],
      "execution_count": 2,
      "outputs": [
        {
          "output_type": "execute_result",
          "data": {
            "text/plain": [
              "1.5"
            ]
          },
          "metadata": {
            "tags": []
          },
          "execution_count": 2
        }
      ]
    },
    {
      "metadata": {
        "id": "Q-Xo9kiQpbI4",
        "colab_type": "code",
        "colab": {
          "base_uri": "https://localhost:8080/",
          "height": 172
        },
        "outputId": "bbb3f199-e274-4a11-a9e8-de62f6a4ef44"
      },
      "cell_type": "code",
      "source": [
        "A+ B\n"
      ],
      "execution_count": 3,
      "outputs": [
        {
          "output_type": "error",
          "ename": "NameError",
          "evalue": "ignored",
          "traceback": [
            "\u001b[0;31m---------------------------------------------------------------------------\u001b[0m",
            "\u001b[0;31mNameError\u001b[0m                                 Traceback (most recent call last)",
            "\u001b[0;32m<ipython-input-3-9f21ca5ad715>\u001b[0m in \u001b[0;36m<module>\u001b[0;34m()\u001b[0m\n\u001b[0;32m----> 1\u001b[0;31m \u001b[0mA\u001b[0m\u001b[0;34m+\u001b[0m \u001b[0mB\u001b[0m\u001b[0;34m\u001b[0m\u001b[0;34m\u001b[0m\u001b[0m\n\u001b[0m",
            "\u001b[0;31mNameError\u001b[0m: name 'A' is not defined"
          ]
        }
      ]
    },
    {
      "metadata": {
        "id": "1eS9lX4bioyK",
        "colab_type": "text"
      },
      "cell_type": "markdown",
      "source": [
        "### Modes"
      ]
    },
    {
      "metadata": {
        "id": "1GlYD_13ioyN",
        "colab_type": "text"
      },
      "cell_type": "markdown",
      "source": [
        "If you made a mistake in your *Markdown* cell and you have already ran it, you will notice that you cannot edit it just by clicking on it. This is because you are in **Command Mode**. Jupyter Notebooks have two distinct modes:\n",
        "\n",
        "1. **Edit Mode**: Allows you to edit a cell's content.\n",
        "\n",
        "2. **Command Mode**: Allows you to edit the notebook as a whole and use keyboard shortcuts but not edit a cell's content. \n",
        "\n",
        "You can toggle between these two by either pressing <kbd>ESC</kbd> and <kbd>Enter</kbd> or clicking outside a cell or inside it (you need to double click if its a Markdown cell). You can always know which mode you're on since the current cell has a green border if in **Edit Mode** and a blue border in **Command Mode**. Try it!"
      ]
    },
    {
      "metadata": {
        "id": "XVI8PvSKioyQ",
        "colab_type": "text"
      },
      "cell_type": "markdown",
      "source": [
        "### Other Important Considerations"
      ]
    },
    {
      "metadata": {
        "id": "doL63-HsioyU",
        "colab_type": "text"
      },
      "cell_type": "markdown",
      "source": [
        "1. Your notebook is autosaved every 120 seconds. If you want to manually save it you can just press the save button on the upper left corner or press <kbd>s</kbd> in **Command Mode**."
      ]
    },
    {
      "metadata": {
        "id": "3RCF0B5mioyW",
        "colab_type": "text"
      },
      "cell_type": "markdown",
      "source": [
        "![Save](https://github.com/fastai/course-v3/blob/master/nbs/dl1/images/notebook_tutorial/save.png?raw=1)"
      ]
    },
    {
      "metadata": {
        "id": "niTZNyNIioyZ",
        "colab_type": "text"
      },
      "cell_type": "markdown",
      "source": [
        "2. To know if your kernel is computing or not you can check the dot in your upper right corner. If the dot is full, it means that the kernel is working. If not, it is idle. You can place the mouse on it and see the state of the kernel be displayed."
      ]
    },
    {
      "metadata": {
        "id": "d1f2uPpcioyk",
        "colab_type": "text"
      },
      "cell_type": "markdown",
      "source": [
        "![Busy](https://github.com/fastai/course-v3/blob/master/nbs/dl1/images/notebook_tutorial/busy.png?raw=1)"
      ]
    },
    {
      "metadata": {
        "id": "fruOm_9sioyo",
        "colab_type": "text"
      },
      "cell_type": "markdown",
      "source": [
        "3. There are a couple of shortcuts you must know about which we use **all** the time (always in **Command Mode**). These are:\n",
        "\n",
        "<kbd>Shift</kbd>+<kbd>Enter</kbd>: Runs the code or markdown on a cell\n",
        "\n",
        "<kbd>Up Arrow</kbd>+<kbd>Down Arrow</kbd>: Toggle across cells\n",
        "\n",
        "<kbd>b</kbd>: Create new cell\n",
        "\n",
        "<kbd>0</kbd>+<kbd>0</kbd>: Reset Kernel\n",
        "\n",
        "You can find more shortcuts in the Shortcuts section below."
      ]
    },
    {
      "metadata": {
        "id": "83zQ3HhZioyr",
        "colab_type": "text"
      },
      "cell_type": "markdown",
      "source": [
        "4. You may need to use a terminal in a Jupyter Notebook environment (for example to git pull on a repository). That is very easy to do, just press 'New' in your Home directory and 'Terminal'. Don't know how to use the Terminal? We made a tutorial for that as well. You can find it [here](https://course.fast.ai/terminal_tutorial.html)."
      ]
    },
    {
      "metadata": {
        "id": "9lx8CnKOioyt",
        "colab_type": "text"
      },
      "cell_type": "markdown",
      "source": [
        "![Terminal](https://github.com/fastai/course-v3/blob/master/nbs/dl1/images/notebook_tutorial/terminal.png?raw=1)"
      ]
    },
    {
      "metadata": {
        "id": "kK3WUAcaioyx",
        "colab_type": "text"
      },
      "cell_type": "markdown",
      "source": [
        "That's it. This is all you need to know to use Jupyter Notebooks. That said, we have more tips and tricks below ↓↓↓"
      ]
    },
    {
      "metadata": {
        "id": "lhgMkTTTioyz",
        "colab_type": "text"
      },
      "cell_type": "markdown",
      "source": [
        "## Section 2: Going deeper"
      ]
    },
    {
      "metadata": {
        "hide_input": false,
        "id": "VLDnV5Hiioy1",
        "colab_type": "text"
      },
      "cell_type": "markdown",
      "source": [
        "### Markdown formatting"
      ]
    },
    {
      "metadata": {
        "id": "k0FOT6L7ioy6",
        "colab_type": "text"
      },
      "cell_type": "markdown",
      "source": [
        "#### Italics, Bold, Strikethrough, Inline, Blockquotes and Links"
      ]
    },
    {
      "metadata": {
        "id": "4GvGMDmHioy-",
        "colab_type": "text"
      },
      "cell_type": "markdown",
      "source": [
        "The five most important concepts to format your code appropriately when using markdown are:\n",
        "    \n",
        "1. *Italics*: Surround your text with '\\_' or '\\*'\n",
        "2. **Bold**: Surround your text with '\\__' or '\\**'\n",
        "3. `inline`: Surround your text with '\\`'\n",
        "4.  > blockquote: Place '\\>' before your text.\n",
        "5.  [Links](https://course.fast.ai/): Surround the text you want to link with '\\[\\]' and place the link adjacent to the text, surrounded with '()'\n"
      ]
    },
    {
      "metadata": {
        "id": "2vhv0oYSiozA",
        "colab_type": "text"
      },
      "cell_type": "markdown",
      "source": [
        "#### Headings"
      ]
    },
    {
      "metadata": {
        "id": "3fZ1cFmDiozF",
        "colab_type": "text"
      },
      "cell_type": "markdown",
      "source": [
        "Notice that including a hashtag before the text in a markdown cell makes the text a heading. The number of hashtags you include will determine the priority of the header ('#' is level one, '##' is level two, '###' is level three and '####' is level four). We will add three new cells with the '+' button on the left to see how every level of heading looks."
      ]
    },
    {
      "metadata": {
        "id": "frPZVzxfiozI",
        "colab_type": "text"
      },
      "cell_type": "markdown",
      "source": [
        "Double click on some headings and find out what level they are!"
      ]
    },
    {
      "metadata": {
        "id": "2yiPbOPBiozK",
        "colab_type": "text"
      },
      "cell_type": "markdown",
      "source": [
        "#### Lists"
      ]
    },
    {
      "metadata": {
        "id": "xixRduuliozO",
        "colab_type": "text"
      },
      "cell_type": "markdown",
      "source": [
        "There are three types of lists in markdown."
      ]
    },
    {
      "metadata": {
        "id": "bp8aQUFFiozR",
        "colab_type": "text"
      },
      "cell_type": "markdown",
      "source": [
        "Ordered list:\n",
        "\n",
        "1. Step 1\n",
        "    2. Step 1B\n",
        "3. Step 3"
      ]
    },
    {
      "metadata": {
        "id": "j_xyrdb9iozT",
        "colab_type": "text"
      },
      "cell_type": "markdown",
      "source": [
        "Unordered list\n",
        "\n",
        "* learning rate\n",
        "* cycle length\n",
        "* weight decay"
      ]
    },
    {
      "metadata": {
        "id": "MLGMxsGxiozW",
        "colab_type": "text"
      },
      "cell_type": "markdown",
      "source": [
        "Task list\n",
        "\n",
        "- [x] Learn Jupyter Notebooks\n",
        "    - [x] Writing\n",
        "    - [x] Modes\n",
        "    - [x] Other Considerations\n",
        "- [ ] Change the world"
      ]
    },
    {
      "metadata": {
        "id": "fSB_EWNGiozf",
        "colab_type": "text"
      },
      "cell_type": "markdown",
      "source": [
        "Double click on each to see how they are built! "
      ]
    },
    {
      "metadata": {
        "id": "sQNj8Vo6iozo",
        "colab_type": "text"
      },
      "cell_type": "markdown",
      "source": [
        "### Code Capabilities"
      ]
    },
    {
      "metadata": {
        "id": "AWQ46N9Oiozs",
        "colab_type": "text"
      },
      "cell_type": "markdown",
      "source": [
        "**Code** cells are different than **Markdown** cells in that they have an output cell. This means that we can _keep_ the results of our code within the notebook and share them. Let's say we want to show a graph that explains the result of an experiment. We can just run the necessary cells and save the notebook. The output will be there when we open it again! Try it out by running the next four cells."
      ]
    },
    {
      "metadata": {
        "id": "L6h1QxVHiozv",
        "colab_type": "code",
        "colab": {}
      },
      "cell_type": "code",
      "source": [
        "# Import necessary libraries\n",
        "from fastai.vision import * \n",
        "import matplotlib.pyplot as plt"
      ],
      "execution_count": 0,
      "outputs": []
    },
    {
      "metadata": {
        "id": "2eURwFJ4io0C",
        "colab_type": "code",
        "colab": {}
      },
      "cell_type": "code",
      "source": [
        "from PIL import Image"
      ],
      "execution_count": 0,
      "outputs": []
    },
    {
      "metadata": {
        "id": "ge5xUKvsio0G",
        "colab_type": "code",
        "colab": {}
      },
      "cell_type": "code",
      "source": [
        "a = 1\n",
        "b = a + 1\n",
        "c = b + a + 1\n",
        "d = c + b + a + 1\n",
        "a, b, c ,d"
      ],
      "execution_count": 0,
      "outputs": []
    },
    {
      "metadata": {
        "id": "T6pTc6CMio0a",
        "colab_type": "code",
        "colab": {}
      },
      "cell_type": "code",
      "source": [
        "plt.plot([a,b,c,d])\n",
        "plt.show()"
      ],
      "execution_count": 0,
      "outputs": []
    },
    {
      "metadata": {
        "id": "eBsVUY0Bio0l",
        "colab_type": "text"
      },
      "cell_type": "markdown",
      "source": [
        "We can also print images while experimenting. I am watching you."
      ]
    },
    {
      "metadata": {
        "id": "JsL0SPdnio0o",
        "colab_type": "code",
        "colab": {}
      },
      "cell_type": "code",
      "source": [
        "Image.open('images/notebook_tutorial/cat_example.jpg')"
      ],
      "execution_count": 0,
      "outputs": []
    },
    {
      "metadata": {
        "id": "qWiSm9iUio0y",
        "colab_type": "text"
      },
      "cell_type": "markdown",
      "source": [
        "### Running the app locally"
      ]
    },
    {
      "metadata": {
        "id": "Dfymz7HVio01",
        "colab_type": "text"
      },
      "cell_type": "markdown",
      "source": [
        "You may be running Jupyter Notebook from an interactive coding environment like Gradient, Sagemaker or Salamander. You can also run a Jupyter Notebook server from your local computer. What's more, if you have installed Anaconda you don't even need to install Jupyter (if not, just `pip install jupyter`).\n",
        "\n",
        "You just need to run `jupyter notebook` in your terminal. Remember to run it from a folder that contains all the folders/files you will want to access. You will be able to open, view and edit files located within the directory in which you run this command but not files in parent directories.\n",
        "\n",
        "If a browser tab does not open automatically once you run the command, you should CTRL+CLICK the link starting with 'https://localhost:' and this will open a new tab in your default browser."
      ]
    },
    {
      "metadata": {
        "id": "wcBDrlNLio03",
        "colab_type": "text"
      },
      "cell_type": "markdown",
      "source": [
        "### Creating a notebook"
      ]
    },
    {
      "metadata": {
        "id": "D5JUxWkuio1A",
        "colab_type": "text"
      },
      "cell_type": "markdown",
      "source": [
        "Click on 'New' in the upper left corner and 'Python 3' in the drop-down list (we are going to use a [Python kernel](https://github.com/ipython/ipython) for all our experiments).\n",
        "\n",
        "![new_notebook](https://github.com/fastai/course-v3/blob/master/nbs/dl1/images/notebook_tutorial/new_notebook.png?raw=1)\n",
        "\n",
        "Note: You will sometimes hear people talking about the Notebook 'kernel'. The 'kernel' is just the Python engine that performs the computations for you. "
      ]
    },
    {
      "metadata": {
        "id": "dt5SqHl6io1E",
        "colab_type": "text"
      },
      "cell_type": "markdown",
      "source": [
        "### Shortcuts and tricks"
      ]
    },
    {
      "metadata": {
        "id": "592xUjccio1J",
        "colab_type": "text"
      },
      "cell_type": "markdown",
      "source": [
        "#### Command Mode Shortcuts"
      ]
    },
    {
      "metadata": {
        "id": "cfBzcHkBio1P",
        "colab_type": "text"
      },
      "cell_type": "markdown",
      "source": [
        "There are a couple of useful keyboard shortcuts in `Command Mode` that you can leverage to make Jupyter Notebook faster to use. Remember that to switch back and forth between `Command Mode` and `Edit Mode` with <kbd>Esc</kbd> and <kbd>Enter</kbd>."
      ]
    },
    {
      "metadata": {
        "id": "80hJo-phio1R",
        "colab_type": "text"
      },
      "cell_type": "markdown",
      "source": [
        "<kbd>m</kbd>: Convert cell to Markdown"
      ]
    },
    {
      "metadata": {
        "id": "6rhqAmxqio1S",
        "colab_type": "text"
      },
      "cell_type": "markdown",
      "source": [
        "<kbd>y</kbd>: Convert cell to Code"
      ]
    },
    {
      "metadata": {
        "id": "DdyHrKd3io1T",
        "colab_type": "text"
      },
      "cell_type": "markdown",
      "source": [
        "<kbd>D</kbd>+<kbd>D</kbd>: Delete cell"
      ]
    },
    {
      "metadata": {
        "id": "ykzddByxio1U",
        "colab_type": "text"
      },
      "cell_type": "markdown",
      "source": [
        "<kbd>o</kbd>: Toggle between hide or show output"
      ]
    },
    {
      "metadata": {
        "id": "svQqyauQio1V",
        "colab_type": "text"
      },
      "cell_type": "markdown",
      "source": [
        "<kbd>Shift</kbd>+<kbd>Arrow up/Arrow down</kbd>: Selects multiple cells. Once you have selected them you can operate on them like a batch (run, copy, paste etc)."
      ]
    },
    {
      "metadata": {
        "id": "icHYK9r8io1X",
        "colab_type": "text"
      },
      "cell_type": "markdown",
      "source": [
        "<kbd>Shift</kbd>+<kbd>M</kbd>: Merge selected cells."
      ]
    },
    {
      "metadata": {
        "id": "rliVoZO8io1d",
        "colab_type": "text"
      },
      "cell_type": "markdown",
      "source": [
        "<kbd>Shift</kbd>+<kbd>Tab</kbd>: [press once] Tells you which parameters to pass on a function\n",
        "<kbd>Shift</kbd>+<kbd>Tab</kbd>: [press three times] Gives additional information on the method"
      ]
    },
    {
      "metadata": {
        "id": "slt2sdxjio1f",
        "colab_type": "text"
      },
      "cell_type": "markdown",
      "source": [
        "#### Cell Tricks"
      ]
    },
    {
      "metadata": {
        "id": "jGZ-i_njio1g",
        "colab_type": "code",
        "colab": {}
      },
      "cell_type": "code",
      "source": [
        "from fastai import*\n",
        "from fastai.vision import *"
      ],
      "execution_count": 0,
      "outputs": []
    },
    {
      "metadata": {
        "id": "exx3Z5OQio1k",
        "colab_type": "text"
      },
      "cell_type": "markdown",
      "source": [
        "There are also some tricks that you can code into a cell."
      ]
    },
    {
      "metadata": {
        "id": "h5cNmJBuio1m",
        "colab_type": "text"
      },
      "cell_type": "markdown",
      "source": [
        "`?function-name`: Shows the definition and docstring for that function"
      ]
    },
    {
      "metadata": {
        "id": "uBj0Mbgzio1n",
        "colab_type": "code",
        "colab": {}
      },
      "cell_type": "code",
      "source": [
        "?ImageDataBunch"
      ],
      "execution_count": 0,
      "outputs": []
    },
    {
      "metadata": {
        "id": "Y3avUeZJio1s",
        "colab_type": "text"
      },
      "cell_type": "markdown",
      "source": [
        "`??function-name`: Shows the source code for that function"
      ]
    },
    {
      "metadata": {
        "id": "B83Cg_W6io1u",
        "colab_type": "code",
        "colab": {}
      },
      "cell_type": "code",
      "source": [
        "??ImageDataBunch"
      ],
      "execution_count": 0,
      "outputs": []
    },
    {
      "metadata": {
        "id": "z35zKdPDio1x",
        "colab_type": "text"
      },
      "cell_type": "markdown",
      "source": [
        "`doc(function-name)`: Shows the definition, docstring **and links to the documentation** of the function\n",
        "(only works with fastai library imported)"
      ]
    },
    {
      "metadata": {
        "id": "wFgU8f--io1y",
        "colab_type": "code",
        "colab": {}
      },
      "cell_type": "code",
      "source": [
        "doc(ImageDataBunch)"
      ],
      "execution_count": 0,
      "outputs": []
    },
    {
      "metadata": {
        "id": "qKI0rqEwio12",
        "colab_type": "text"
      },
      "cell_type": "markdown",
      "source": [
        "#### Line Magics"
      ]
    },
    {
      "metadata": {
        "id": "YfJL6ZKKio13",
        "colab_type": "text"
      },
      "cell_type": "markdown",
      "source": [
        "Line magics are functions that you can run on cells and take as an argument the rest of the line from where they are called. You call them by placing a '%' sign before the command. The most useful ones are:"
      ]
    },
    {
      "metadata": {
        "id": "pG0iEPTgio14",
        "colab_type": "text"
      },
      "cell_type": "markdown",
      "source": [
        "`%matplotlib inline`: This command ensures that all matplotlib plots will be plotted in the output cell within the notebook and will be kept in the notebook when saved."
      ]
    },
    {
      "metadata": {
        "id": "d_Fj-yCBio14",
        "colab_type": "text"
      },
      "cell_type": "markdown",
      "source": [
        "`%reload_ext autoreload`, `%autoreload 2`: Reload all modules before executing a new line. If a module is edited, it is not necessary to rerun the import commands, the modules will be reloaded automatically."
      ]
    },
    {
      "metadata": {
        "id": "QxHVPzoTio17",
        "colab_type": "text"
      },
      "cell_type": "markdown",
      "source": [
        "These three commands are always called together at the beginning of every notebook."
      ]
    },
    {
      "metadata": {
        "id": "_1dYIqRPio18",
        "colab_type": "code",
        "colab": {}
      },
      "cell_type": "code",
      "source": [
        "%matplotlib inline\n",
        "%reload_ext autoreload\n",
        "%autoreload 2"
      ],
      "execution_count": 0,
      "outputs": []
    },
    {
      "metadata": {
        "id": "7YUgHe86io2B",
        "colab_type": "text"
      },
      "cell_type": "markdown",
      "source": [
        "`%timeit`: Runs a line a ten thousand times and displays the average time it took to run it."
      ]
    },
    {
      "metadata": {
        "id": "k1IXeJapio2E",
        "colab_type": "code",
        "colab": {}
      },
      "cell_type": "code",
      "source": [
        "%timeit [i+1 for i in range(1000)]"
      ],
      "execution_count": 0,
      "outputs": []
    },
    {
      "metadata": {
        "id": "NpJgdax4io2I",
        "colab_type": "text"
      },
      "cell_type": "markdown",
      "source": [
        "`%debug`: Allows to inspect a function which is showing an error using the [Python debugger](https://docs.python.org/3/library/pdb.html)."
      ]
    },
    {
      "metadata": {
        "id": "QtsnplcVio2K",
        "colab_type": "code",
        "colab": {}
      },
      "cell_type": "code",
      "source": [
        "for i in range(1000):\n",
        "    a = i+1\n",
        "    b = 'string'\n",
        "    c = b+1"
      ],
      "execution_count": 0,
      "outputs": []
    },
    {
      "metadata": {
        "id": "r9q4TWv7io2Q",
        "colab_type": "code",
        "colab": {},
        "cellView": "both"
      },
      "cell_type": "code",
      "source": [
        "#@title\n",
        "%debug"
      ],
      "execution_count": 0,
      "outputs": []
    },
    {
      "metadata": {
        "id": "1tC0cNbaio2U",
        "colab_type": "code",
        "colab": {}
      },
      "cell_type": "code",
      "source": [
        "n\n"
      ],
      "execution_count": 0,
      "outputs": []
    },
    {
      "metadata": {
        "id": "67pTHQMsp7Av",
        "colab_type": "code",
        "colab": {}
      },
      "cell_type": "code",
      "source": [
        ""
      ],
      "execution_count": 0,
      "outputs": []
    }
  ]
}